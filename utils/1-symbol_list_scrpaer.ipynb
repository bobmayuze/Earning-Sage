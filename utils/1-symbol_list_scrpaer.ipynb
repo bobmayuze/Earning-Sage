{
 "cells": [
  {
   "cell_type": "code",
   "execution_count": 1,
   "id": "f169aa3c-ef0e-421f-bb3c-4eb0fcf844a8",
   "metadata": {
    "tags": []
   },
   "outputs": [],
   "source": [
    "import requests\n",
    "from bs4 import BeautifulSoup\n",
    "import pandas as pd\n",
    "\n",
    "# Data Source \n",
    "url = \"https://www.marketbeat.com/earnings/transcripts/\"\n",
    "\n",
    "# Send a GET request to the URL\n",
    "response = requests.get(url)\n",
    "\n",
    "# Create a BeautifulSoup object from the response content\n",
    "soup = BeautifulSoup(response.content, \"html.parser\")\n"
   ]
  },
  {
   "cell_type": "code",
   "execution_count": 2,
   "id": "40c6957e-55a7-4446-bbd5-6514e2680df0",
   "metadata": {
    "tags": []
   },
   "outputs": [],
   "source": [
    "content = soup.select(\"tbody\")"
   ]
  },
  {
   "cell_type": "code",
   "execution_count": 3,
   "id": "af2b98a7-6255-441b-8e45-918a9702a0c7",
   "metadata": {
    "tags": []
   },
   "outputs": [],
   "source": [
    "tr_elements = content[0].find_all('tr')"
   ]
  },
  {
   "cell_type": "code",
   "execution_count": 4,
   "id": "d31f02e5-0025-44a5-9d62-1c6d6dd9f005",
   "metadata": {},
   "outputs": [
    {
     "data": {
      "text/plain": [
       "103"
      ]
     },
     "execution_count": 4,
     "metadata": {},
     "output_type": "execute_result"
    }
   ],
   "source": [
    "len(tr_elements)"
   ]
  },
  {
   "cell_type": "code",
   "execution_count": 5,
   "id": "435f2b28-5c85-4663-91fc-82de400d0759",
   "metadata": {
    "tags": []
   },
   "outputs": [],
   "source": [
    "out = []\n",
    "for row in tr_elements:\n",
    "    try:\n",
    "        symbol = row.select(\"div.ticker-area\")[0].text\n",
    "        url = row.find_all(recursive=False)[2].attrs['data-clean']    \n",
    "        out.append((symbol, url))\n",
    "    except:\n",
    "        pass"
   ]
  },
  {
   "cell_type": "code",
   "execution_count": 7,
   "id": "78bfcf6b-d42f-436d-8cc7-dfd512e5e87a",
   "metadata": {
    "tags": []
   },
   "outputs": [],
   "source": [
    "pd.DataFrame(out, columns=['symbol','url']).to_csv('target_list2.csv', index=False)"
   ]
  },
  {
   "cell_type": "code",
   "execution_count": null,
   "id": "2d1ad2d0-cd7c-4ee0-abf3-3b8fdf607ef3",
   "metadata": {},
   "outputs": [],
   "source": []
  }
 ],
 "metadata": {
  "kernelspec": {
   "display_name": "playground",
   "language": "python",
   "name": "playground"
  },
  "language_info": {
   "codemirror_mode": {
    "name": "ipython",
    "version": 3
   },
   "file_extension": ".py",
   "mimetype": "text/x-python",
   "name": "python",
   "nbconvert_exporter": "python",
   "pygments_lexer": "ipython3",
   "version": "3.10.9"
  }
 },
 "nbformat": 4,
 "nbformat_minor": 5
}
